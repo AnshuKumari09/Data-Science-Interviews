{
 "cells": [
  {
   "cell_type": "code",
   "execution_count": 3,
   "id": "af74b9b1-1bc2-4c11-bf83-836c05b9d4c7",
   "metadata": {},
   "outputs": [],
   "source": [
    "import pandas as pd"
   ]
  },
  {
   "cell_type": "code",
   "execution_count": 4,
   "id": "5f62808a-d1b3-48bc-803c-ce55955b7637",
   "metadata": {},
   "outputs": [],
   "source": [
    "import numpy as np"
   ]
  },
  {
   "cell_type": "markdown",
   "id": "0f163ad0-0797-4828-9909-6d168e70e880",
   "metadata": {},
   "source": [
    "SimpleImputer. 👉 Purpose: Missing values ko handle karna (fill karna)\n",
    "Data set me kabhi kabhi NaN (missing values) hote hain. Agar unko directly model me dalenge to model error dega.\n",
    "SimpleImputer ka kaam hota hai missing values ko fill karna kisi strategy se.Example: mean, median, mode ya koi constant value."
   ]
  },
  {
   "cell_type": "code",
   "execution_count": 6,
   "id": "0af22e5a-74c8-4c9e-b87a-234578fc008a",
   "metadata": {},
   "outputs": [],
   "source": [
    "from sklearn.impute import SimpleImputer"
   ]
  },
  {
   "cell_type": "code",
   "execution_count": 7,
   "id": "6f6ba87c-bfa7-4c6d-9e96-f8c9ded405ba",
   "metadata": {},
   "outputs": [],
   "source": [
    "from sklearn.preprocessing import OrdinalEncoder\n",
    "from sklearn.preprocessing import OneHotEncoder"
   ]
  },
  {
   "cell_type": "code",
   "execution_count": 8,
   "id": "77df8b2d-68f4-4d59-b950-d3d1ae881906",
   "metadata": {},
   "outputs": [],
   "source": [
    "df=pd.read_csv('covid_toy.csv')"
   ]
  },
  {
   "cell_type": "code",
   "execution_count": 9,
   "id": "e7e7f742-86ee-463d-a619-ee30e1ad23e6",
   "metadata": {},
   "outputs": [
    {
     "data": {
      "text/html": [
       "<div>\n",
       "<style scoped>\n",
       "    .dataframe tbody tr th:only-of-type {\n",
       "        vertical-align: middle;\n",
       "    }\n",
       "\n",
       "    .dataframe tbody tr th {\n",
       "        vertical-align: top;\n",
       "    }\n",
       "\n",
       "    .dataframe thead th {\n",
       "        text-align: right;\n",
       "    }\n",
       "</style>\n",
       "<table border=\"1\" class=\"dataframe\">\n",
       "  <thead>\n",
       "    <tr style=\"text-align: right;\">\n",
       "      <th></th>\n",
       "      <th>age</th>\n",
       "      <th>gender</th>\n",
       "      <th>fever</th>\n",
       "      <th>cough</th>\n",
       "      <th>city</th>\n",
       "      <th>has_covid</th>\n",
       "    </tr>\n",
       "  </thead>\n",
       "  <tbody>\n",
       "    <tr>\n",
       "      <th>0</th>\n",
       "      <td>60</td>\n",
       "      <td>Male</td>\n",
       "      <td>103.0</td>\n",
       "      <td>Mild</td>\n",
       "      <td>Kolkata</td>\n",
       "      <td>No</td>\n",
       "    </tr>\n",
       "    <tr>\n",
       "      <th>1</th>\n",
       "      <td>27</td>\n",
       "      <td>Male</td>\n",
       "      <td>100.0</td>\n",
       "      <td>Mild</td>\n",
       "      <td>Delhi</td>\n",
       "      <td>Yes</td>\n",
       "    </tr>\n",
       "    <tr>\n",
       "      <th>2</th>\n",
       "      <td>42</td>\n",
       "      <td>Male</td>\n",
       "      <td>101.0</td>\n",
       "      <td>Mild</td>\n",
       "      <td>Delhi</td>\n",
       "      <td>No</td>\n",
       "    </tr>\n",
       "    <tr>\n",
       "      <th>3</th>\n",
       "      <td>31</td>\n",
       "      <td>Female</td>\n",
       "      <td>98.0</td>\n",
       "      <td>Mild</td>\n",
       "      <td>Kolkata</td>\n",
       "      <td>No</td>\n",
       "    </tr>\n",
       "    <tr>\n",
       "      <th>4</th>\n",
       "      <td>65</td>\n",
       "      <td>Female</td>\n",
       "      <td>101.0</td>\n",
       "      <td>Mild</td>\n",
       "      <td>Mumbai</td>\n",
       "      <td>No</td>\n",
       "    </tr>\n",
       "    <tr>\n",
       "      <th>...</th>\n",
       "      <td>...</td>\n",
       "      <td>...</td>\n",
       "      <td>...</td>\n",
       "      <td>...</td>\n",
       "      <td>...</td>\n",
       "      <td>...</td>\n",
       "    </tr>\n",
       "    <tr>\n",
       "      <th>95</th>\n",
       "      <td>12</td>\n",
       "      <td>Female</td>\n",
       "      <td>104.0</td>\n",
       "      <td>Mild</td>\n",
       "      <td>Bangalore</td>\n",
       "      <td>No</td>\n",
       "    </tr>\n",
       "    <tr>\n",
       "      <th>96</th>\n",
       "      <td>51</td>\n",
       "      <td>Female</td>\n",
       "      <td>101.0</td>\n",
       "      <td>Strong</td>\n",
       "      <td>Kolkata</td>\n",
       "      <td>Yes</td>\n",
       "    </tr>\n",
       "    <tr>\n",
       "      <th>97</th>\n",
       "      <td>20</td>\n",
       "      <td>Female</td>\n",
       "      <td>101.0</td>\n",
       "      <td>Mild</td>\n",
       "      <td>Bangalore</td>\n",
       "      <td>No</td>\n",
       "    </tr>\n",
       "    <tr>\n",
       "      <th>98</th>\n",
       "      <td>5</td>\n",
       "      <td>Female</td>\n",
       "      <td>98.0</td>\n",
       "      <td>Strong</td>\n",
       "      <td>Mumbai</td>\n",
       "      <td>No</td>\n",
       "    </tr>\n",
       "    <tr>\n",
       "      <th>99</th>\n",
       "      <td>10</td>\n",
       "      <td>Female</td>\n",
       "      <td>98.0</td>\n",
       "      <td>Strong</td>\n",
       "      <td>Kolkata</td>\n",
       "      <td>Yes</td>\n",
       "    </tr>\n",
       "  </tbody>\n",
       "</table>\n",
       "<p>100 rows × 6 columns</p>\n",
       "</div>"
      ],
      "text/plain": [
       "    age  gender  fever   cough       city has_covid\n",
       "0    60    Male  103.0    Mild    Kolkata        No\n",
       "1    27    Male  100.0    Mild      Delhi       Yes\n",
       "2    42    Male  101.0    Mild      Delhi        No\n",
       "3    31  Female   98.0    Mild    Kolkata        No\n",
       "4    65  Female  101.0    Mild     Mumbai        No\n",
       "..  ...     ...    ...     ...        ...       ...\n",
       "95   12  Female  104.0    Mild  Bangalore        No\n",
       "96   51  Female  101.0  Strong    Kolkata       Yes\n",
       "97   20  Female  101.0    Mild  Bangalore        No\n",
       "98    5  Female   98.0  Strong     Mumbai        No\n",
       "99   10  Female   98.0  Strong    Kolkata       Yes\n",
       "\n",
       "[100 rows x 6 columns]"
      ]
     },
     "execution_count": 9,
     "metadata": {},
     "output_type": "execute_result"
    }
   ],
   "source": [
    "df"
   ]
  },
  {
   "cell_type": "code",
   "execution_count": 10,
   "id": "074427b4-75ab-4fdf-86d1-57198d5b6c1d",
   "metadata": {},
   "outputs": [
    {
     "data": {
      "text/plain": [
       "age           0\n",
       "gender        0\n",
       "fever        10\n",
       "cough         0\n",
       "city          0\n",
       "has_covid     0\n",
       "dtype: int64"
      ]
     },
     "execution_count": 10,
     "metadata": {},
     "output_type": "execute_result"
    }
   ],
   "source": [
    "df.isnull().sum()"
   ]
  },
  {
   "cell_type": "code",
   "execution_count": 11,
   "id": "752ba58d-4c3b-425e-af9c-d3934a7dc414",
   "metadata": {},
   "outputs": [],
   "source": [
    "from sklearn.model_selection import train_test_split"
   ]
  },
  {
   "cell_type": "code",
   "execution_count": 12,
   "id": "c4aa96af-d94e-4de5-a298-43d8d5380fff",
   "metadata": {},
   "outputs": [],
   "source": [
    "X_train,X_test,y_test,y_train=train_test_split(df.drop(columns=['has_covid']),df['has_covid'],test_size=0.2)"
   ]
  },
  {
   "cell_type": "code",
   "execution_count": 13,
   "id": "aad98552-5a89-4dda-a1de-9f5f33c6518c",
   "metadata": {},
   "outputs": [
    {
     "data": {
      "text/html": [
       "<div>\n",
       "<style scoped>\n",
       "    .dataframe tbody tr th:only-of-type {\n",
       "        vertical-align: middle;\n",
       "    }\n",
       "\n",
       "    .dataframe tbody tr th {\n",
       "        vertical-align: top;\n",
       "    }\n",
       "\n",
       "    .dataframe thead th {\n",
       "        text-align: right;\n",
       "    }\n",
       "</style>\n",
       "<table border=\"1\" class=\"dataframe\">\n",
       "  <thead>\n",
       "    <tr style=\"text-align: right;\">\n",
       "      <th></th>\n",
       "      <th>age</th>\n",
       "      <th>gender</th>\n",
       "      <th>fever</th>\n",
       "      <th>cough</th>\n",
       "      <th>city</th>\n",
       "    </tr>\n",
       "  </thead>\n",
       "  <tbody>\n",
       "    <tr>\n",
       "      <th>8</th>\n",
       "      <td>19</td>\n",
       "      <td>Female</td>\n",
       "      <td>100.0</td>\n",
       "      <td>Strong</td>\n",
       "      <td>Bangalore</td>\n",
       "    </tr>\n",
       "    <tr>\n",
       "      <th>38</th>\n",
       "      <td>49</td>\n",
       "      <td>Female</td>\n",
       "      <td>101.0</td>\n",
       "      <td>Mild</td>\n",
       "      <td>Delhi</td>\n",
       "    </tr>\n",
       "    <tr>\n",
       "      <th>68</th>\n",
       "      <td>54</td>\n",
       "      <td>Female</td>\n",
       "      <td>104.0</td>\n",
       "      <td>Strong</td>\n",
       "      <td>Kolkata</td>\n",
       "    </tr>\n",
       "    <tr>\n",
       "      <th>51</th>\n",
       "      <td>11</td>\n",
       "      <td>Female</td>\n",
       "      <td>100.0</td>\n",
       "      <td>Strong</td>\n",
       "      <td>Kolkata</td>\n",
       "    </tr>\n",
       "    <tr>\n",
       "      <th>55</th>\n",
       "      <td>81</td>\n",
       "      <td>Female</td>\n",
       "      <td>101.0</td>\n",
       "      <td>Mild</td>\n",
       "      <td>Mumbai</td>\n",
       "    </tr>\n",
       "    <tr>\n",
       "      <th>...</th>\n",
       "      <td>...</td>\n",
       "      <td>...</td>\n",
       "      <td>...</td>\n",
       "      <td>...</td>\n",
       "      <td>...</td>\n",
       "    </tr>\n",
       "    <tr>\n",
       "      <th>26</th>\n",
       "      <td>19</td>\n",
       "      <td>Female</td>\n",
       "      <td>100.0</td>\n",
       "      <td>Mild</td>\n",
       "      <td>Kolkata</td>\n",
       "    </tr>\n",
       "    <tr>\n",
       "      <th>1</th>\n",
       "      <td>27</td>\n",
       "      <td>Male</td>\n",
       "      <td>100.0</td>\n",
       "      <td>Mild</td>\n",
       "      <td>Delhi</td>\n",
       "    </tr>\n",
       "    <tr>\n",
       "      <th>18</th>\n",
       "      <td>64</td>\n",
       "      <td>Female</td>\n",
       "      <td>98.0</td>\n",
       "      <td>Mild</td>\n",
       "      <td>Bangalore</td>\n",
       "    </tr>\n",
       "    <tr>\n",
       "      <th>62</th>\n",
       "      <td>56</td>\n",
       "      <td>Female</td>\n",
       "      <td>104.0</td>\n",
       "      <td>Strong</td>\n",
       "      <td>Bangalore</td>\n",
       "    </tr>\n",
       "    <tr>\n",
       "      <th>32</th>\n",
       "      <td>34</td>\n",
       "      <td>Female</td>\n",
       "      <td>101.0</td>\n",
       "      <td>Strong</td>\n",
       "      <td>Delhi</td>\n",
       "    </tr>\n",
       "  </tbody>\n",
       "</table>\n",
       "<p>80 rows × 5 columns</p>\n",
       "</div>"
      ],
      "text/plain": [
       "    age  gender  fever   cough       city\n",
       "8    19  Female  100.0  Strong  Bangalore\n",
       "38   49  Female  101.0    Mild      Delhi\n",
       "68   54  Female  104.0  Strong    Kolkata\n",
       "51   11  Female  100.0  Strong    Kolkata\n",
       "55   81  Female  101.0    Mild     Mumbai\n",
       "..  ...     ...    ...     ...        ...\n",
       "26   19  Female  100.0    Mild    Kolkata\n",
       "1    27    Male  100.0    Mild      Delhi\n",
       "18   64  Female   98.0    Mild  Bangalore\n",
       "62   56  Female  104.0  Strong  Bangalore\n",
       "32   34  Female  101.0  Strong      Delhi\n",
       "\n",
       "[80 rows x 5 columns]"
      ]
     },
     "execution_count": 13,
     "metadata": {},
     "output_type": "execute_result"
    }
   ],
   "source": [
    "X_train"
   ]
  },
  {
   "cell_type": "markdown",
   "id": "2c775ce0-84f8-4494-8b37-1d4e1b26b94a",
   "metadata": {},
   "source": [
    "### Aam Zindagi (manual process)\n",
    "Tumne preprocessing har feature ko alag-alag handle karke manually transform kiya. Fever column → SimpleImputer"
   ]
  },
  {
   "cell_type": "code",
   "execution_count": 18,
   "id": "06241533-2d40-4cc5-b785-75319b3454c0",
   "metadata": {},
   "outputs": [],
   "source": [
    "si=SimpleImputer()\n",
    "X_train_fever=si.fit_transform(X_train[['fever']])\n",
    "X_test_fever=si.fit_transform(X_test[['fever']])\n"
   ]
  },
  {
   "cell_type": "markdown",
   "id": "14d926a2-dd19-4cca-9626-e5f3657de9f9",
   "metadata": {},
   "source": [
    "### 2. Cough column → OrdinalEncoder \n",
    "Need: cough ek ordered categorical variable hai → \"Mild\" < \"Strong\".OrdinalEncoder ne Mild = 0, Strong = 1 bana diya."
   ]
  },
  {
   "cell_type": "code",
   "execution_count": 23,
   "id": "7f97db89-34c5-4e13-a825-582f844766f2",
   "metadata": {},
   "outputs": [],
   "source": [
    "oe=OrdinalEncoder(categories=[['Mild','Strong']])"
   ]
  },
  {
   "cell_type": "code",
   "execution_count": 48,
   "id": "8b2cedee-3dda-4b14-8030-da7edbab5d73",
   "metadata": {},
   "outputs": [],
   "source": [
    "X_train_cough=oe.fit_transform(X_train[['cough']])\n",
    "X_test_cough=oe.fit_transform(X_test[['cough']])"
   ]
  },
  {
   "cell_type": "markdown",
   "id": "8c8a2f7f-c8de-4990-b68b-421a0d34a58c",
   "metadata": {},
   "source": [
    "### 3. Gender + City → OneHotEncoder"
   ]
  },
  {
   "cell_type": "markdown",
   "id": "2a0ab7fe-9b6f-4948-a549-2c64b19b2ad0",
   "metadata": {},
   "source": [
    "Need: Gender aur City nominal categorical variables hain (order nahi hai).OneHotEncoder ne unhe dummy variables (0/1) me convert kar diya.\n",
    "drop='first' → dummy variable trap avoid karne ke liye ek column drop kiya."
   ]
  },
  {
   "cell_type": "code",
   "execution_count": 31,
   "id": "0c50f592-99a0-4a7b-872f-15e8b1fa105f",
   "metadata": {},
   "outputs": [],
   "source": [
    "ohe=OneHotEncoder(drop='first',sparse_output=False)"
   ]
  },
  {
   "cell_type": "markdown",
   "id": "275dc7c1-b77f-46fa-b975-32cec32c6b4f",
   "metadata": {},
   "source": [
    "('tnf1', SimpleImputer(), ['fever']) → fever column me missing values fill.\n",
    "('tnf2', OrdinalEncoder(...), ['cough']) → cough ko ordinal encode.\n",
    "('tnf3', OneHotEncoder(...), ['gender','city']) → gender aur city ko one-hot encode.\n",
    "remainder='passthrough' → baaki jo columns (age) bache hain unhe as-is copy kar lena."
   ]
  },
  {
   "cell_type": "code",
   "execution_count": 34,
   "id": "02a8aac6-b055-4550-88b0-7e6265f47343",
   "metadata": {},
   "outputs": [],
   "source": [
    "X_train_gender_city=ohe.fit_transform(X_train[['gender','city']])"
   ]
  },
  {
   "cell_type": "code",
   "execution_count": 36,
   "id": "07913b2d-4401-4374-8746-ad1ee906524f",
   "metadata": {},
   "outputs": [],
   "source": [
    "X_test_gender_city=ohe.fit_transform(X_test[['gender','city']])"
   ]
  },
  {
   "cell_type": "code",
   "execution_count": 38,
   "id": "34b33d5e-55d5-4757-b9e0-8bd4f5889fe4",
   "metadata": {},
   "outputs": [],
   "source": [
    "## Extracting Age Need: Age pehle hi numeric hai → direct use kar sakte hain.\n",
    "X_train_age=X_train.drop(columns=['age','gender','fever','cough','city']) "
   ]
  },
  {
   "cell_type": "code",
   "execution_count": 40,
   "id": "4e11f328-676b-40dc-a802-0b698153c019",
   "metadata": {},
   "outputs": [],
   "source": [
    "X_test_age=X_test.drop(columns=['age','gender','fever','cough','city'])"
   ]
  },
  {
   "cell_type": "code",
   "execution_count": 44,
   "id": "e1579f78-0ec6-4951-9e52-4e6864b2c9ca",
   "metadata": {},
   "outputs": [],
   "source": [
    "#Need: Saare transformed features ko ek final matrix me combine karna. Shape (80,7) = Matlab final training data me 7 features ban gaye.\n",
    "X_train_tranformed=np.concatenate((X_train_age,X_train_cough,X_train_gender_city,X_train_fever),axis=1)"
   ]
  },
  {
   "cell_type": "code",
   "execution_count": 50,
   "id": "b006aa4b-eb7f-4100-9938-ee3fd4c785ef",
   "metadata": {},
   "outputs": [],
   "source": [
    "X_test_tranformed=np.concatenate((X_test_age,X_test_cough,X_test_gender_city,X_test_fever),axis=1) "
   ]
  },
  {
   "cell_type": "markdown",
   "id": "f80908dc-6420-4241-8dc1-95419521a486",
   "metadata": {},
   "source": [
    "### Mentos Zindagi (using ColumnTransformer)\n",
    "Yaha tumne wahi kaam kiya but ek hi line me, automatically ✅"
   ]
  },
  {
   "cell_type": "code",
   "execution_count": 53,
   "id": "69895b56-2c84-4649-9c0f-14a35d6079aa",
   "metadata": {},
   "outputs": [],
   "source": [
    "from sklearn.compose import ColumnTransformer"
   ]
  },
  {
   "cell_type": "code",
   "execution_count": 59,
   "id": "4fbf2b2b-27fe-4fb6-84ea-d47f2c69dc0e",
   "metadata": {},
   "outputs": [],
   "source": [
    "transformer=ColumnTransformer(transformers=[\n",
    "    ('tnf1',SimpleImputer(),['fever']),\n",
    "    ('tnf2',OrdinalEncoder(categories=[['Mild','Strong']]),['cough']),\n",
    "    ('tnf3',OneHotEncoder(sparse_output=False,drop='first'),[['gender','city']])\n",
    "],remainder='passthrough')"
   ]
  },
  {
   "cell_type": "code",
   "execution_count": 65,
   "id": "ae32c4e0-6c44-416a-83e4-0f2ef6a99e88",
   "metadata": {},
   "outputs": [
    {
     "data": {
      "text/plain": [
       "(80, 7)"
      ]
     },
     "execution_count": 65,
     "metadata": {},
     "output_type": "execute_result"
    }
   ],
   "source": [
    "transformer = ColumnTransformer(transformers=[\n",
    "    ('tnf1', SimpleImputer(), ['fever']),\n",
    "    ('tnf2', OrdinalEncoder(categories=[['Mild','Strong']]), ['cough']),\n",
    "    ('tnf3', OneHotEncoder(sparse_output=False, drop='first'), ['gender','city'])\n",
    "], remainder='passthrough')\n",
    "\n",
    "transformer.fit_transform(X_train).shape"
   ]
  },
  {
   "cell_type": "code",
   "execution_count": null,
   "id": "76f3f1b9-70ea-4aee-b846-5d4f5976cf87",
   "metadata": {},
   "outputs": [],
   "source": []
  }
 ],
 "metadata": {
  "kernelspec": {
   "display_name": "Python 3 (ipykernel)",
   "language": "python",
   "name": "python3"
  },
  "language_info": {
   "codemirror_mode": {
    "name": "ipython",
    "version": 3
   },
   "file_extension": ".py",
   "mimetype": "text/x-python",
   "name": "python",
   "nbconvert_exporter": "python",
   "pygments_lexer": "ipython3",
   "version": "3.12.4"
  }
 },
 "nbformat": 4,
 "nbformat_minor": 5
}
